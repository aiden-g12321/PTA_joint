{
 "cells": [
  {
   "cell_type": "code",
   "execution_count": 1,
   "id": "12c4990e-7a28-4a74-85ec-64ba5ef8ee7d",
   "metadata": {},
   "outputs": [],
   "source": [
    "import pickle\n",
    "import shutil\n",
    "\n",
    "import numpy as np\n",
    "import matplotlib.pyplot as plt\n",
    "\n",
    "from PTMCMCSampler.PTMCMCSampler import PTSampler as ptmcmc\n",
    "\n",
    "import os\n",
    "import glob\n",
    "\n",
    "from emcee.autocorr import integrated_time\n",
    "import pandas as pd\n",
    "from chainconsumer import ChainConsumer, Chain, Truth\n",
    "\n",
    "from time import perf_counter\n",
    "\n",
    "%load_ext autoreload\n",
    "%autoreload 2"
   ]
  },
  {
   "cell_type": "markdown",
   "id": "dc9baa55-49bd-44c2-a2a2-a71c26c57e40",
   "metadata": {},
   "source": [
    "## Load pulsars and PTA object"
   ]
  },
  {
   "cell_type": "code",
   "execution_count": 2,
   "id": "1005b5e2",
   "metadata": {},
   "outputs": [
    {
     "name": "stdout",
     "output_type": "stream",
     "text": [
      "Warning: cannot find astropy, units support will not be available.\n",
      "J0645+5158\n",
      "B1855+09\n",
      "J1843-1113\n",
      "J0557+1551\n",
      "J1730-2304\n",
      "J1643-1224\n",
      "J1022+1001\n",
      "J1910+1256\n",
      "J0740+6620\n",
      "J1832-0836\n",
      "J1811-2405\n",
      "J0030+0451\n",
      "J0509+0856\n",
      "J0340+4130\n",
      "B1953+29\n",
      "J1744-1134\n",
      "B1937+21\n",
      "J1719-1438\n",
      "J0605+3757\n",
      "J1903+0327\n"
     ]
    }
   ],
   "source": [
    "# load Enterprise pulsar objects\n",
    "with open('ent_data_simulation/data/enterprise_pulsars.pkl', 'rb') as f:\n",
    "    psrs = pickle.load(f)\n",
    "\n",
    "# load Enterprise PTA object\n",
    "with open('ent_data_simulation/data/pta.pkl', 'rb') as f:\n",
    "    pta = pickle.load(f)\n",
    "\n",
    "for psr in psrs:\n",
    "    print(psr.name)"
   ]
  },
  {
   "cell_type": "code",
   "execution_count": 3,
   "id": "88e52b36",
   "metadata": {},
   "outputs": [],
   "source": [
    "# load injected parameters\n",
    "data_dict = np.load('ent_data_simulation/data/data_dict.npz', allow_pickle=True)\n",
    "x_inj_dict = data_dict['x_inj'].item()"
   ]
  },
  {
   "cell_type": "code",
   "execution_count": 4,
   "id": "2df0f64a-0505-41c0-9fab-e572b16fd864",
   "metadata": {},
   "outputs": [
    {
     "name": "stdout",
     "output_type": "stream",
     "text": [
      "enterprise v3.3.3,  Python v3.10.14\n",
      "==========================================================================================\n",
      "\n",
      "Signal Name                              Signal Class                   no. Parameters      \n",
      "==========================================================================================\n",
      "J0645+5158_linear_timing_model_svd       TimingModel                    0                   \n",
      "\n",
      "params:\n",
      "__________________________________________________________________________________________\n",
      "J0645+5158_measurement_noise             MeasurementNoise               0                   \n",
      "\n",
      "params:\n",
      "__________________________________________________________________________________________\n",
      "J0645+5158_gw                            FourierBasisCommonGP           2                   \n",
      "\n",
      "params:\n",
      "log10_A_gw:Uniform(pmin=-30.0, pmax=-10.0)                                                \n",
      "gamma_gw:Uniform(pmin=0.1, pmax=20.0)                                                     \n",
      "__________________________________________________________________________________________\n",
      "B1855+09_linear_timing_model_svd         TimingModel                    0                   \n",
      "\n",
      "params:\n",
      "__________________________________________________________________________________________\n",
      "B1855+09_measurement_noise               MeasurementNoise               0                   \n",
      "\n",
      "params:\n",
      "__________________________________________________________________________________________\n",
      "B1855+09_gw                              FourierBasisCommonGP           2                   \n",
      "\n",
      "params:\n",
      "log10_A_gw:Uniform(pmin=-30.0, pmax=-10.0)                                                \n",
      "gamma_gw:Uniform(pmin=0.1, pmax=20.0)                                                     \n",
      "__________________________________________________________________________________________\n",
      "J1843-1113_linear_timing_model_svd       TimingModel                    0                   \n",
      "\n",
      "params:\n",
      "__________________________________________________________________________________________\n",
      "J1843-1113_measurement_noise             MeasurementNoise               0                   \n",
      "\n",
      "params:\n",
      "__________________________________________________________________________________________\n",
      "J1843-1113_gw                            FourierBasisCommonGP           2                   \n",
      "\n",
      "params:\n",
      "log10_A_gw:Uniform(pmin=-30.0, pmax=-10.0)                                                \n",
      "gamma_gw:Uniform(pmin=0.1, pmax=20.0)                                                     \n",
      "__________________________________________________________________________________________\n",
      "J0557+1551_linear_timing_model_svd       TimingModel                    0                   \n",
      "\n",
      "params:\n",
      "__________________________________________________________________________________________\n",
      "J0557+1551_measurement_noise             MeasurementNoise               0                   \n",
      "\n",
      "params:\n",
      "__________________________________________________________________________________________\n",
      "J0557+1551_gw                            FourierBasisCommonGP           2                   \n",
      "\n",
      "params:\n",
      "log10_A_gw:Uniform(pmin=-30.0, pmax=-10.0)                                                \n",
      "gamma_gw:Uniform(pmin=0.1, pmax=20.0)                                                     \n",
      "__________________________________________________________________________________________\n",
      "J1730-2304_linear_timing_model_svd       TimingModel                    0                   \n",
      "\n",
      "params:\n",
      "__________________________________________________________________________________________\n",
      "J1730-2304_measurement_noise             MeasurementNoise               0                   \n",
      "\n",
      "params:\n",
      "__________________________________________________________________________________________\n",
      "J1730-2304_gw                            FourierBasisCommonGP           2                   \n",
      "\n",
      "params:\n",
      "log10_A_gw:Uniform(pmin=-30.0, pmax=-10.0)                                                \n",
      "gamma_gw:Uniform(pmin=0.1, pmax=20.0)                                                     \n",
      "__________________________________________________________________________________________\n",
      "J1643-1224_linear_timing_model_svd       TimingModel                    0                   \n",
      "\n",
      "params:\n",
      "__________________________________________________________________________________________\n",
      "J1643-1224_measurement_noise             MeasurementNoise               0                   \n",
      "\n",
      "params:\n",
      "__________________________________________________________________________________________\n",
      "J1643-1224_gw                            FourierBasisCommonGP           2                   \n",
      "\n",
      "params:\n",
      "log10_A_gw:Uniform(pmin=-30.0, pmax=-10.0)                                                \n",
      "gamma_gw:Uniform(pmin=0.1, pmax=20.0)                                                     \n",
      "__________________________________________________________________________________________\n",
      "J1022+1001_linear_timing_model_svd       TimingModel                    0                   \n",
      "\n",
      "params:\n",
      "__________________________________________________________________________________________\n",
      "J1022+1001_measurement_noise             MeasurementNoise               0                   \n",
      "\n",
      "params:\n",
      "__________________________________________________________________________________________\n",
      "J1022+1001_gw                            FourierBasisCommonGP           2                   \n",
      "\n",
      "params:\n",
      "log10_A_gw:Uniform(pmin=-30.0, pmax=-10.0)                                                \n",
      "gamma_gw:Uniform(pmin=0.1, pmax=20.0)                                                     \n",
      "__________________________________________________________________________________________\n",
      "J1910+1256_linear_timing_model_svd       TimingModel                    0                   \n",
      "\n",
      "params:\n",
      "__________________________________________________________________________________________\n",
      "J1910+1256_measurement_noise             MeasurementNoise               0                   \n",
      "\n",
      "params:\n",
      "__________________________________________________________________________________________\n",
      "J1910+1256_gw                            FourierBasisCommonGP           2                   \n",
      "\n",
      "params:\n",
      "log10_A_gw:Uniform(pmin=-30.0, pmax=-10.0)                                                \n",
      "gamma_gw:Uniform(pmin=0.1, pmax=20.0)                                                     \n",
      "__________________________________________________________________________________________\n",
      "J0740+6620_linear_timing_model_svd       TimingModel                    0                   \n",
      "\n",
      "params:\n",
      "__________________________________________________________________________________________\n",
      "J0740+6620_measurement_noise             MeasurementNoise               0                   \n",
      "\n",
      "params:\n",
      "__________________________________________________________________________________________\n",
      "J0740+6620_gw                            FourierBasisCommonGP           2                   \n",
      "\n",
      "params:\n",
      "log10_A_gw:Uniform(pmin=-30.0, pmax=-10.0)                                                \n",
      "gamma_gw:Uniform(pmin=0.1, pmax=20.0)                                                     \n",
      "__________________________________________________________________________________________\n",
      "J1832-0836_linear_timing_model_svd       TimingModel                    0                   \n",
      "\n",
      "params:\n",
      "__________________________________________________________________________________________\n",
      "J1832-0836_measurement_noise             MeasurementNoise               0                   \n",
      "\n",
      "params:\n",
      "__________________________________________________________________________________________\n",
      "J1832-0836_gw                            FourierBasisCommonGP           2                   \n",
      "\n",
      "params:\n",
      "log10_A_gw:Uniform(pmin=-30.0, pmax=-10.0)                                                \n",
      "gamma_gw:Uniform(pmin=0.1, pmax=20.0)                                                     \n",
      "__________________________________________________________________________________________\n",
      "J1811-2405_linear_timing_model_svd       TimingModel                    0                   \n",
      "\n",
      "params:\n",
      "__________________________________________________________________________________________\n",
      "J1811-2405_measurement_noise             MeasurementNoise               0                   \n",
      "\n",
      "params:\n",
      "__________________________________________________________________________________________\n",
      "J1811-2405_gw                            FourierBasisCommonGP           2                   \n",
      "\n",
      "params:\n",
      "log10_A_gw:Uniform(pmin=-30.0, pmax=-10.0)                                                \n",
      "gamma_gw:Uniform(pmin=0.1, pmax=20.0)                                                     \n",
      "__________________________________________________________________________________________\n",
      "J0030+0451_linear_timing_model_svd       TimingModel                    0                   \n",
      "\n",
      "params:\n",
      "__________________________________________________________________________________________\n",
      "J0030+0451_measurement_noise             MeasurementNoise               0                   \n",
      "\n",
      "params:\n",
      "__________________________________________________________________________________________\n",
      "J0030+0451_gw                            FourierBasisCommonGP           2                   \n",
      "\n",
      "params:\n",
      "log10_A_gw:Uniform(pmin=-30.0, pmax=-10.0)                                                \n",
      "gamma_gw:Uniform(pmin=0.1, pmax=20.0)                                                     \n",
      "__________________________________________________________________________________________\n",
      "J0509+0856_linear_timing_model_svd       TimingModel                    0                   \n",
      "\n",
      "params:\n",
      "__________________________________________________________________________________________\n",
      "J0509+0856_measurement_noise             MeasurementNoise               0                   \n",
      "\n",
      "params:\n",
      "__________________________________________________________________________________________\n",
      "J0509+0856_gw                            FourierBasisCommonGP           2                   \n",
      "\n",
      "params:\n",
      "log10_A_gw:Uniform(pmin=-30.0, pmax=-10.0)                                                \n",
      "gamma_gw:Uniform(pmin=0.1, pmax=20.0)                                                     \n",
      "__________________________________________________________________________________________\n",
      "J0340+4130_linear_timing_model_svd       TimingModel                    0                   \n",
      "\n",
      "params:\n",
      "__________________________________________________________________________________________\n",
      "J0340+4130_measurement_noise             MeasurementNoise               0                   \n",
      "\n",
      "params:\n",
      "__________________________________________________________________________________________\n",
      "J0340+4130_gw                            FourierBasisCommonGP           2                   \n",
      "\n",
      "params:\n",
      "log10_A_gw:Uniform(pmin=-30.0, pmax=-10.0)                                                \n",
      "gamma_gw:Uniform(pmin=0.1, pmax=20.0)                                                     \n",
      "__________________________________________________________________________________________\n",
      "B1953+29_linear_timing_model_svd         TimingModel                    0                   \n",
      "\n",
      "params:\n",
      "__________________________________________________________________________________________\n",
      "B1953+29_measurement_noise               MeasurementNoise               0                   \n",
      "\n",
      "params:\n",
      "__________________________________________________________________________________________\n",
      "B1953+29_gw                              FourierBasisCommonGP           2                   \n",
      "\n",
      "params:\n",
      "log10_A_gw:Uniform(pmin=-30.0, pmax=-10.0)                                                \n",
      "gamma_gw:Uniform(pmin=0.1, pmax=20.0)                                                     \n",
      "__________________________________________________________________________________________\n",
      "J1744-1134_linear_timing_model_svd       TimingModel                    0                   \n",
      "\n",
      "params:\n",
      "__________________________________________________________________________________________\n",
      "J1744-1134_measurement_noise             MeasurementNoise               0                   \n",
      "\n",
      "params:\n",
      "__________________________________________________________________________________________\n",
      "J1744-1134_gw                            FourierBasisCommonGP           2                   \n",
      "\n",
      "params:\n",
      "log10_A_gw:Uniform(pmin=-30.0, pmax=-10.0)                                                \n",
      "gamma_gw:Uniform(pmin=0.1, pmax=20.0)                                                     \n",
      "__________________________________________________________________________________________\n",
      "B1937+21_linear_timing_model_svd         TimingModel                    0                   \n",
      "\n",
      "params:\n",
      "__________________________________________________________________________________________\n",
      "B1937+21_measurement_noise               MeasurementNoise               0                   \n",
      "\n",
      "params:\n",
      "__________________________________________________________________________________________\n",
      "B1937+21_gw                              FourierBasisCommonGP           2                   \n",
      "\n",
      "params:\n",
      "log10_A_gw:Uniform(pmin=-30.0, pmax=-10.0)                                                \n",
      "gamma_gw:Uniform(pmin=0.1, pmax=20.0)                                                     \n",
      "__________________________________________________________________________________________\n",
      "J1719-1438_linear_timing_model_svd       TimingModel                    0                   \n",
      "\n",
      "params:\n",
      "__________________________________________________________________________________________\n",
      "J1719-1438_measurement_noise             MeasurementNoise               0                   \n",
      "\n",
      "params:\n",
      "__________________________________________________________________________________________\n",
      "J1719-1438_gw                            FourierBasisCommonGP           2                   \n",
      "\n",
      "params:\n",
      "log10_A_gw:Uniform(pmin=-30.0, pmax=-10.0)                                                \n",
      "gamma_gw:Uniform(pmin=0.1, pmax=20.0)                                                     \n",
      "__________________________________________________________________________________________\n",
      "J0605+3757_linear_timing_model_svd       TimingModel                    0                   \n",
      "\n",
      "params:\n",
      "__________________________________________________________________________________________\n",
      "J0605+3757_measurement_noise             MeasurementNoise               0                   \n",
      "\n",
      "params:\n",
      "__________________________________________________________________________________________\n",
      "J0605+3757_gw                            FourierBasisCommonGP           2                   \n",
      "\n",
      "params:\n",
      "log10_A_gw:Uniform(pmin=-30.0, pmax=-10.0)                                                \n",
      "gamma_gw:Uniform(pmin=0.1, pmax=20.0)                                                     \n",
      "__________________________________________________________________________________________\n",
      "J1903+0327_linear_timing_model_svd       TimingModel                    0                   \n",
      "\n",
      "params:\n",
      "__________________________________________________________________________________________\n",
      "J1903+0327_measurement_noise             MeasurementNoise               0                   \n",
      "\n",
      "params:\n",
      "__________________________________________________________________________________________\n",
      "J1903+0327_gw                            FourierBasisCommonGP           2                   \n",
      "\n",
      "params:\n",
      "log10_A_gw:Uniform(pmin=-30.0, pmax=-10.0)                                                \n",
      "gamma_gw:Uniform(pmin=0.1, pmax=20.0)                                                     \n",
      "__________________________________________________________________________________________\n",
      "==========================================================================================\n",
      "Total params: 2\n",
      "Varying params: 2\n",
      "Common params: 40\n",
      "Fixed params: 0\n",
      "Number of pulsars: 20\n",
      "\n"
     ]
    }
   ],
   "source": [
    "print(pta.summary())"
   ]
  },
  {
   "cell_type": "code",
   "execution_count": 5,
   "id": "28576343-b753-451a-882b-387071d714d6",
   "metadata": {},
   "outputs": [
    {
     "data": {
      "image/png": "[encoded data removed]",
      "text/plain": [
       "<Figure size 800x400 with 1 Axes>"
      ]
     },
     "metadata": {},
     "output_type": "display_data"
    }
   ],
   "source": [
    "# plot timing residuals\n",
    "psr_ndx = 0\n",
    "plt.figure(figsize=(8, 4))\n",
    "plt.scatter(psrs[psr_ndx].toas / 86400., psrs[psr_ndx].residuals, s=15)\n",
    "plt.xlabel('TOAs (MJD)')\n",
    "plt.ylabel('timing residuals (s)')\n",
    "plt.show()"
   ]
  },
  {
   "cell_type": "markdown",
   "id": "ce435805-758c-46e3-9682-febb469dd884",
   "metadata": {},
   "source": [
    "## test Enterprise likelihood"
   ]
  },
  {
   "cell_type": "code",
   "execution_count": 6,
   "id": "259459a6",
   "metadata": {},
   "outputs": [],
   "source": [
    "def get_dict(params):\n",
    "    return {param_name: param for param_name, param in zip(pta.param_names, params)}"
   ]
  },
  {
   "cell_type": "code",
   "execution_count": 7,
   "id": "d529afe7",
   "metadata": {},
   "outputs": [],
   "source": [
    "# likelihood function\n",
    "def get_lnlike(params):\n",
    "    return pta.get_lnlikelihood(get_dict(params))\n",
    "\n",
    "# prior function\n",
    "def get_lnprior(params):\n",
    "    return pta.get_lnprior(get_dict(params))\n",
    "\n",
    "# posterior\n",
    "def get_lnpost(params):\n",
    "    return get_lnprior(params) + get_lnlike(params)"
   ]
  },
  {
   "cell_type": "code",
   "execution_count": 8,
   "id": "91e582c4",
   "metadata": {},
   "outputs": [
    {
     "name": "stdout",
     "output_type": "stream",
     "text": [
      "39006.91414712331\n"
     ]
    }
   ],
   "source": [
    "x_test = np.array([param.sample() for param in pta.params])\n",
    "print(get_lnpost(x_test))"
   ]
  },
  {
   "cell_type": "code",
   "execution_count": 9,
   "id": "2d75338e",
   "metadata": {},
   "outputs": [
    {
     "name": "stdout",
     "output_type": "stream",
     "text": [
      "16.8 ms ± 1.33 ms per loop (mean ± std. dev. of 7 runs, 100 loops each)\n"
     ]
    }
   ],
   "source": [
    "%timeit get_lnpost(x_test)"
   ]
  },
  {
   "cell_type": "code",
   "execution_count": 10,
   "id": "e473e2f2",
   "metadata": {},
   "outputs": [
    {
     "name": "stdout",
     "output_type": "stream",
     "text": [
      "gamma_gw = 4.333333333333333\n",
      "log10_A_gw = -14.5\n"
     ]
    }
   ],
   "source": [
    "# store injected parameters in array\n",
    "x_inj = []\n",
    "for param_name in pta.param_names:\n",
    "    print(f'{param_name} = {x_inj_dict[param_name]}')\n",
    "    if param_name[-6:] == 'p_dist':  # pulsar distances are normalized\n",
    "        x_inj.append(0.)\n",
    "    else:\n",
    "        x_inj.append(x_inj_dict[param_name])\n",
    "x_inj = np.array(x_inj)"
   ]
  },
  {
   "cell_type": "code",
   "execution_count": 11,
   "id": "07f1cebf",
   "metadata": {},
   "outputs": [
    {
     "data": {
      "image/png": "[encoded data removed]",
      "text/plain": [
       "<Figure size 640x480 with 1 Axes>"
      ]
     },
     "metadata": {},
     "output_type": "display_data"
    }
   ],
   "source": [
    "# plot cross-sections of posterior\n",
    "param_ndx = 0\n",
    "num_evals = 100\n",
    "# get \"minimum\" and \"maximum\" of parameter values\n",
    "param_samples = np.array([pta.params[param_ndx].sample() for _ in range(1000)])\n",
    "param_vals = np.linspace(np.min(param_samples), np.max(param_samples), num_evals)\n",
    "x_vals = np.tile(x_inj, (num_evals, 1))\n",
    "x_vals[:, param_ndx] = param_vals\n",
    "lnposts = np.array([get_lnpost(x) for x in x_vals])\n",
    "plt.plot(param_vals, lnposts)\n",
    "plt.axvline(x_inj[param_ndx], color='C3', label='injection', lw=5)\n",
    "plt.axvline(param_vals[np.argmax(lnposts)], color='C2', label='maximum', lw=2)\n",
    "plt.legend()\n",
    "plt.xlabel(pta.param_names[param_ndx])\n",
    "plt.ylabel('ln(posterior)')\n",
    "plt.show()"
   ]
  },
  {
   "cell_type": "markdown",
   "id": "3bc9f13d-d583-49c7-8fdb-890962fffac1",
   "metadata": {},
   "source": [
    "## load MCMC samples"
   ]
  },
  {
   "cell_type": "code",
   "execution_count": 12,
   "id": "17b4a8ad",
   "metadata": {},
   "outputs": [
    {
     "name": "stdout",
     "output_type": "stream",
     "text": [
      "gamma_gw = 4.333333333333333\n",
      "log10_A_gw = -14.5\n",
      "Finished 0.00 percent in 0.000677 s Acceptance rate = 0"
     ]
    },
    {
     "name": "stderr",
     "output_type": "stream",
     "text": [
      "/opt/anaconda3/envs/PTA-x86/lib/python3.10/site-packages/enterprise/signals/parameter.py:62: RuntimeWarning: divide by zero encountered in log\n",
      "  logpdf = np.log(self.prior(value, **kwargs))\n"
     ]
    },
    {
     "name": "stdout",
     "output_type": "stream",
     "text": [
      "Finished 10.00 percent in 166.207014 s Acceptance rate = 0.50112Adding DE jump with weight 20\n",
      "Finished 100.00 percent in 1744.585692 s Acceptance rate = 0.51655\n",
      "Run Complete\n"
     ]
    }
   ],
   "source": [
    "# store injected parameters in array\n",
    "x_inj = []\n",
    "for param_name in pta.param_names:\n",
    "    print(f'{param_name} = {x_inj_dict[param_name]}')\n",
    "    if param_name[-6:] == 'p_dist':  # pulsar distances are normalized\n",
    "        x_inj.append(0.)\n",
    "    else:\n",
    "        x_inj.append(x_inj_dict[param_name])\n",
    "x_inj = np.array(x_inj)\n",
    "\n",
    "\n",
    "# set up the sampler:\n",
    "ndim = len(x_inj)\n",
    "cov = np.eye(ndim) * 5.0\n",
    "# cov[-4] = 0.0001\n",
    "outDir = 'enterprise_chains'\n",
    "\n",
    "sampler = ptmcmc(ndim=ndim,\n",
    "                 logl=get_lnlike,\n",
    "                 logp=get_lnprior,\n",
    "                 cov=cov, \n",
    "                 outDir=outDir,\n",
    "                 resume=False)\n",
    "\n",
    "# do MCMC\n",
    "num_samples = int(1e5)\n",
    "time_start = perf_counter()\n",
    "sampler.sample(p0=x_inj,\n",
    "               Niter=num_samples,\n",
    "               # ladder=np.round(1.3**np.arange(4), 2),\n",
    "               # writeHotChains=True,\n",
    "               DEweight=20,\n",
    "               SCAMweight=20,\n",
    "               AMweight=5,\n",
    "               # Tskip=300\n",
    "               )\n",
    "time_stop = perf_counter()"
   ]
  },
  {
   "cell_type": "code",
   "execution_count": 13,
   "id": "3eae09ab",
   "metadata": {},
   "outputs": [],
   "source": [
    "folder = 'enterprise_chains'\n",
    "\n",
    "# Find all files matching chain_*.txt\n",
    "files = glob.glob(os.path.join(folder, \"chain_*.txt\"))\n",
    "\n",
    "# Extract temperatures from filenames\n",
    "def get_temp(fname):\n",
    "    base = os.path.basename(fname)\n",
    "    temp_str = base.replace(\"chain_\", \"\").replace(\".txt\", \"\")\n",
    "    return float(temp_str)\n",
    "\n",
    "# load chains\n",
    "files_sorted = sorted(files, key=get_temp)\n",
    "chains = [np.loadtxt(f) for f in files_sorted]\n",
    "ladder = [get_temp(f) for f in files_sorted]\n",
    "\n",
    "# make pandas data frame for each chain\n",
    "dfs = []\n",
    "lnlikes = []\n",
    "for chain, temp in zip(chains, ladder):\n",
    "    dfs.append(pd.DataFrame(chain[:, :len(pta.param_names)], columns=pta.param_names))\n",
    "    lnlikes.append(chain[:, -3])"
   ]
  },
  {
   "cell_type": "code",
   "execution_count": 26,
   "id": "b66b4991",
   "metadata": {},
   "outputs": [
    {
     "data": {
      "image/png": "[encoded data removed]",
      "text/plain": [
       "<Figure size 640x480 with 1 Axes>"
      ]
     },
     "metadata": {},
     "output_type": "display_data"
    }
   ],
   "source": [
    "_ = [plt.plot(lnlike, color=f'C{i}', label=f'T = {temp}', alpha=0.5)\n",
    "     for i, (lnlike, temp) in enumerate(zip(lnlikes[::-1], ladder[::-1]))]\n",
    "plt.xlabel('PTMCMC iteration')\n",
    "plt.ylabel('log(likelihood)')\n",
    "plt.legend()\n",
    "plt.show()"
   ]
  },
  {
   "cell_type": "code",
   "execution_count": 27,
   "id": "3e2dc6ae",
   "metadata": {},
   "outputs": [
    {
     "data": {
      "image/png": "[encoded data removed]",
      "text/plain": [
       "<Figure size 640x480 with 1 Axes>"
      ]
     },
     "metadata": {},
     "output_type": "display_data"
    }
   ],
   "source": [
    "# illustrate thermodynamic integration\n",
    "burnin = 200\n",
    "betas = 1. / np.array(ladder)\n",
    "plt.plot(betas, [np.mean(lnlike[burnin:], axis=0)\n",
    "                 for lnlike in lnlikes], ls='--', marker='o')\n",
    "plt.xlabel(r'$\\beta = 1 / T$')\n",
    "plt.ylabel(r'$\\langle \\ln p(d | \\theta) \\rangle$')\n",
    "plt.show()"
   ]
  },
  {
   "cell_type": "code",
   "execution_count": 28,
   "id": "0b5a3a5e",
   "metadata": {},
   "outputs": [],
   "source": [
    "# param_ndxs = np.r_[20:28]\n",
    "# c = ChainConsumer()\n",
    "# for df, temp in zip(dfs, ladder):\n",
    "#     c.add_chain(Chain(samples=df.iloc[0:, param_ndxs], name=f'T = {temp}'))\n",
    "# c.add_truth(Truth(location=x_inj_dict))\n",
    "# fig = c.plotter.plot()"
   ]
  },
  {
   "cell_type": "code",
   "execution_count": 29,
   "id": "9f3981cf",
   "metadata": {},
   "outputs": [
    {
     "name": "stdout",
     "output_type": "stream",
     "text": [
      "effective sample size / sec = 1.3395438837986444\n"
     ]
    }
   ],
   "source": [
    "int_time = np.max(integrated_time(dfs[0].iloc[burnin:], has_walkers=False))\n",
    "effective_sample_size = np.round(dfs[0].iloc[burnin:].shape[0] / (2. * int_time))\n",
    "duration = time_stop - time_start\n",
    "ESS_per_sec = effective_sample_size / duration\n",
    "print(f'effective sample size / sec = {ESS_per_sec}')"
   ]
  },
  {
   "cell_type": "code",
   "execution_count": 30,
   "id": "6f836a6e",
   "metadata": {},
   "outputs": [],
   "source": [
    "# save data frame for T = 1 chain\n",
    "dfs[0].iloc[burnin:].to_pickle(\"ent_df.pkl.gz\", compression=\"gzip\")"
   ]
  },
  {
   "cell_type": "code",
   "execution_count": null,
   "id": "761dea4c",
   "metadata": {},
   "outputs": [],
   "source": []
  },
  {
   "cell_type": "code",
   "execution_count": null,
   "id": "bf039018",
   "metadata": {},
   "outputs": [],
   "source": []
  }
 ],
 "metadata": {
  "kernelspec": {
   "display_name": "PTA-x86",
   "language": "python",
   "name": "python3"
  },
  "language_info": {
   "codemirror_mode": {
    "name": "ipython",
    "version": 3
   },
   "file_extension": ".py",
   "mimetype": "text/x-python",
   "name": "python",
   "nbconvert_exporter": "python",
   "pygments_lexer": "ipython3",
   "version": "3.10.14"
  }
 },
 "nbformat": 4,
 "nbformat_minor": 5
}
